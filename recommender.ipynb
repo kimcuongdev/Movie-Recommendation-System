{
 "cells": [
  {
   "cell_type": "markdown",
   "metadata": {},
   "source": [
    "numpy, pandas, difflib, cosine_similarity, feature_extracton: TfidfVectorizer"
   ]
  },
  {
   "cell_type": "code",
   "execution_count": null,
   "metadata": {},
   "outputs": [],
   "source": [
    "import numpy as np"
   ]
  },
  {
   "cell_type": "markdown",
   "metadata": {},
   "source": [
    "* Load data\n",
    "* Chọn ra đặc trưng\n",
    "* Thay thế nullvalue bằng nullstring với mỗi cột đặc trưng\n",
    "* Kết hợp tất cả các đặc trưng\n",
    "* Chuyển từ dữ liệu text về vector đặc trưng\n",
    "  * Sử dụng TfidfVectorizer\n",
    "    * TfidfVectorizer sẽ tính độ quan trọng của từ trong tài liệu theo một từ điển:\n",
    "        * Chia văn bản thành các tokens\n",
    "        * Xây dựng từ điển chứa tất cả các từ trong tập dữ liệu, mỗi từ được gán chỉ số\n",
    "    * TfidfVectorizer.fit_transform sẽ trả về ma trận thưa có định dạng: \n",
    "        (văn bản, index của từ trong từ điển) TF-IDF\n",
    "* Đánh giá độ tương đồng của mỗi phim với nhau\n",
    "\n",
    "* Use Case\n",
    "  * Người dùng nhập tên phim vào\n",
    "  * Hệ thống tìm kiếm kết quả dựa trên phim người dùng nhập vào (get_close_match)\n",
    "  \n",
    "\n"
   ]
  },
  {
   "cell_type": "markdown",
   "metadata": {},
   "source": [
    "# Thu thập và tiền xử lý dữ liệu"
   ]
  }
 ],
 "metadata": {
  "kernelspec": {
   "display_name": "venv",
   "language": "python",
   "name": "python3"
  },
  "language_info": {
   "name": "python",
   "version": "3.11.0"
  }
 },
 "nbformat": 4,
 "nbformat_minor": 2
}
