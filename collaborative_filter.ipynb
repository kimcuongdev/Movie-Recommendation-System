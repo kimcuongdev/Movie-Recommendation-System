{
 "cells": [
  {
   "cell_type": "markdown",
   "metadata": {},
   "source": [
    "# Lý thuyết\n",
    "**Lọc cộng tác lân cận** là phương pháp để hoàn thiện ma trận tiện ích, dự đoán đánh giá của người dùng lên sản phẩm, được chia làm 2 loại:\n",
    "* **Lọc cộng tác lân cận dựa trên người dùng**: Đánh giá sự tương đồng của mỗi người dùng với nhau, nếu hai người dùng là tương đồng thì sản phẩm người dùng này yêu thích sẽ được gợi ý cho người dùng kia\n",
    "* **Lọc cộng tác lân cận dựa trên sản phẩm**: Đánh giá sự tương đồng của mỗi sản phẩm với nhau, nếu hai sản phẩm là tương đồng và người dùng yêu thích một trong hai sản phẩm, hệ thống sẽ gợi tý sản phẩm còn lại cho người dùng đó"
   ]
  },
  {
   "cell_type": "markdown",
   "metadata": {},
   "source": [
    "# Thực hành"
   ]
  },
  {
   "cell_type": "markdown",
   "metadata": {},
   "source": [
    "## Lọc cộng tác lân cận dựa trên người dùng:\n",
    "* Chuẩn hóa ma trận tiện ích:\n",
    "    * Đối với mỗi người dùng:\n",
    "        * Tính trung bình đánh giá của người dùng theo mọi sản phẩm\n",
    "        * Cập nhật đánh giá mỗi sản phẩm = đánh giá cũ - trung bình\n",
    "    * Tính ma trận tương tự trong đó phần tử ở hàng i cột j là độ tương đồng của người dùng i với người dùng j\n",
    "        * Độ tương đồng cosine:\n",
    "        $$sim(u_1, u_2) = cosine\\_similarity(u_1, u_2) = \\cos(u_1, u_2) = \\frac{\\displaystyle \\textbf{u}_1^{T}\\textbf{u}_2}{\\left\\|\\textbf{u}_1\\right\\|_2^2 \\left\\|\\textbf{u}_2\\right\\|_2^2}$$\n",
    "    * Dự đoán độ quan tâm của người dùng u tới sản phẩm i:$$\\hat{y}_{i,u} = \\frac{\\sum_{u_j\\in N(u,i)}^{}\\bar{y}_{i,u_j}sim(u,u_j)}{\\sum_{u_j \\in N(u,i)}^{}\\left| sim(u,u_j) \\right|}$$\n",
    "      * Trong đó:\n",
    "        * $ N(u,i) $ là tập hợp k người dùng tương tự với $u$ nhất mà đã đánh giá sản phẩm $i$\n",
    "        * $\\bar{y}_{i,u_j}$ là đánh giá đã được chuẩn hóa của người dùng $u_j$ đến sản phẩm $i$\n"
   ]
  },
  {
   "cell_type": "code",
   "execution_count": 28,
   "metadata": {},
   "outputs": [],
   "source": [
    "from __future__ import print_function\n",
    "import pandas as pd\n",
    "import numpy as np\n",
    "from sklearn.metrics.pairwise import cosine_similarity\n",
    "from scipy import sparse"
   ]
  },
  {
   "cell_type": "markdown",
   "metadata": {},
   "source": [
    "### Xây dựng class NBCF để lọc cộng tác người dùng"
   ]
  },
  {
   "cell_type": "code",
   "execution_count": 29,
   "metadata": {},
   "outputs": [],
   "source": [
    "class NBCF(object):\n",
    "    def __init__(self, Y_data, k, sim_func= cosine_similarity):\n",
    "        self.Y_data = Y_data        # Mỗi dòng của dữ liệu train là [user_id, item_id, rating]\n",
    "        self.k = k                  # Số hàng xóm\n",
    "        self.sim_func = sim_func    # Hàm đo độ tương đồng\n",
    "        self.Ybar = None            # Chuẩn hóa dữ liệu sau này\n",
    "        self.n_users = int(np.max(self.Y_data[:, 0])) + 1 # Số lượng người dùng tập train\n",
    "        self.n_items = int(np.max(self.Y_data[:, 1])) + 1 # Số lượng phim tập train\n",
    "    \n",
    "    def fit(self):\n",
    "        users = self.Y_data[:, 0]       # Lấy tất cả người dùng\n",
    "        self.Ybar = self.Y_data.copy()  \n",
    "        self.mean_user = np.zeros((self.n_users, ))\n",
    "        for n in range(self.n_users):\n",
    "            ids = np.where(users == n)[0].astype(np.int32) # Lấy tất cả những chỉ số hàng của đánh giá của người dùng n\n",
    "            item_ids = self.Y_data[ids, 1]                 # Lấy tất cả những chỉ số phim mà người dùng đã đánh giá\n",
    "            ratings = self.Y_data[ids, 2]                   # Lấy tất cả các đánh giá của người dùng\n",
    "            self.mean_user[n] = np.mean(ratings) if ids.size > 0 else 0 # Tính đánh giá trung bình của người dùng\n",
    "            self.Ybar[ids,2] = ratings - self.mean_user[n]              # Chuẩn hóa đánh giá của người dùng\n",
    "        # Chuyển thành ma trân tiện ích, có hàng là items còn cột là users\n",
    "        self.Ybar = sparse.coo_matrix((self.Ybar[:,2], \n",
    "                                       (self.Ybar[:,1], self.Ybar[:,0])),\n",
    "                                       (self.n_items, self.n_users)).tocsr()\n",
    "        # Tính ma trận tương tự\n",
    "        self.S = self.sim_func(self.Ybar.T, self.Ybar.T)\n",
    "\n",
    "    def pred(self, user, item):\n",
    "        # Lấy chỉ số của những đánh giá cho item:\n",
    "        ids = np.where(self.Y_data[:,1] == item)[0].astype(np.int32)\n",
    "        # Lấy những users đã đánh giá item:\n",
    "        users_rated_item = (self.Y_data[ids, 0]).astype(np.int32)\n",
    "        # Độ tương đồng của user đầu vào với các user đã đánh giá item\n",
    "        sim = self.S[user, users_rated_item]\n",
    "        # Lấy ra k người dùng tương đồng nhất với user\n",
    "        knns_ids = np.argsort(sim)[-self.k:]\n",
    "        # Lấy ra độ tương đồng của người dùng với k người dùng đó\n",
    "        knns_sim = sim[knns_ids]\n",
    "        # Lấy ra đánh giá của k người dùng đó\n",
    "        knns_rating = self.Ybar[item, users_rated_item[knns_ids]]\n",
    "        # eps để tránh chia cho 0\n",
    "        eps = 1e-8\n",
    "        return (knns_rating * knns_sim).sum() / (np.abs(knns_sim).sum() + eps) + self.mean_user[user]\n"
   ]
  },
  {
   "cell_type": "markdown",
   "metadata": {},
   "source": [
    "### Tiến hành lọc cộng tác người dùng với bộ dữ liệu MovieLens"
   ]
  },
  {
   "cell_type": "markdown",
   "metadata": {},
   "source": [
    "#### Nhập dữ liệu"
   ]
  },
  {
   "cell_type": "code",
   "execution_count": 30,
   "metadata": {},
   "outputs": [],
   "source": [
    "r_cols = ['user_id', 'movie_id', 'rating', 'unix_timestamp']\n",
    "rating_base = pd.read_csv(\"ml-100k/ua.base\", sep= '\\t', names= r_cols)\n",
    "rating_test = pd.read_csv(\"ml-100k/ua.test\", sep= '\\t', names= r_cols)\n",
    "\n",
    "rate_train = rating_base.to_numpy()\n",
    "rate_test = rating_test.to_numpy()\n",
    "\n",
    "# Đánh số lại các chỉ số từ 0\n",
    "rate_train[:, :2] -= 1\n",
    "rate_test[:, :2] -= 1"
   ]
  },
  {
   "cell_type": "markdown",
   "metadata": {},
   "source": [
    "#### Lọc công tác người dùng với k = 40 hàng xóm"
   ]
  },
  {
   "cell_type": "code",
   "execution_count": 31,
   "metadata": {},
   "outputs": [
    {
     "name": "stdout",
     "output_type": "stream",
     "text": [
      "User - User CF RMSE: 0.9766365234453831\n"
     ]
    }
   ],
   "source": [
    "rs = NBCF(rate_train, k = 40)\n",
    "rs.fit()\n",
    "\n",
    "n_tests = rate_test.shape[0]\n",
    "SE = 0\n",
    "for n in range(n_tests):\n",
    "    pred = rs.pred(rate_test[n, 0], rate_test[n, 1])\n",
    "    SE += (pred - rate_test[n, 2]) ** 2\n",
    "\n",
    "RMSE = np.sqrt(SE / n_tests)\n",
    "\n",
    "print(f\"User - User CF RMSE: {RMSE}\")"
   ]
  },
  {
   "cell_type": "markdown",
   "metadata": {},
   "source": [
    "## Lọc cộng tác lân cận dựa trên sản phẩm\n",
    "### Hạn chế của lọc cộng tác lân cận dựa trên người dùng:\n",
    "* Khi số lượng người dùng lớn hơn số sản phẩm (thường xảy ra), việc đánh giá ma trận tương tự cho người dùng tốn rất nhiều chi phí hơn so với việc đánh giá ma trận tương tư cho sản phẩm.\n",
    "* Người dùng thường xuyên không đánh giá sản phẩm nên ma trận tiện ích có dòng ứng với người dùng thường bị khuyết nhiều dẫn đến việc tính độ tương đồng giữa các người dùng khó đạt độ tin cậy cao. Tuy nhiên do số lượng người dùng nhiều hơn số lượng sản phẩm nên ma trận tiện ích có dòng ứng với sản phẩm ít bị khuyết thiếu hơn và việc tính độ tương đồng giữa các sản phẩm đạt được độ tin cậy cao hơn.\n",
    "* Khi sử dụng NBCF dựa trên tương tự người dùng, do số đánh giá thường là ít nên mỗi khi người dùng đưa ra một đánh giá mới thì cần phải cập nhật đánh giá trung bình của người dùng ngay. Ngược lại nếu dựa trên sản phẩm, số người dùng đánh giá một sản phẩm lớn hơn nhiều nên việc có thêm một người dùng đánh giá sản phẩm có ảnh hưởng nhỏ hơn so với trường hợp trên"
   ]
  },
  {
   "cell_type": "markdown",
   "metadata": {},
   "source": [
    "### Nguyên lý lọc cộng tác dựa trên sản phẩm"
   ]
  },
  {
   "cell_type": "markdown",
   "metadata": {},
   "source": [
    "* Đối với lọc cộng tác dựa trên sản phẩm, ta so sánh độ tương đồng của sản phẩm bằng các đánh giá của người dùng lên sản phẩm đó. Hay nói cách khác, ta coi như sản phẩm \"đánh giá\" người dùng. Vì vậy chỉ cần chuyển vị ma trận tiện ích là có thể thực hiện lọc cộng tác dựa trên sản phẩm\n",
    "  * Lấy vị dụ ở tập dữ liệu MovieLens100k, dữ liệu train cho NBCF tương đồng người dùng là [user_id, movie_id, rating] thì ta chỉ cần chuyển thành [movie_id, user_id, rating] là được"
   ]
  },
  {
   "cell_type": "code",
   "execution_count": 32,
   "metadata": {},
   "outputs": [
    {
     "name": "stdout",
     "output_type": "stream",
     "text": [
      "Item - Item CF RMSE: 0.9688528283997285\n"
     ]
    }
   ],
   "source": [
    "# Chuyển đổi dữ liệu\n",
    "rate_train = rate_train[:, [1, 0, 2]]\n",
    "rate_test = rate_test[:, [1, 0, 2]]\n",
    "\n",
    "rs = NBCF(rate_train, k = 40)\n",
    "rs.fit()\n",
    "\n",
    "n_tests = rate_test.shape[0]\n",
    "SE = 0\n",
    "for n in range(n_tests):\n",
    "    pred = rs.pred(rate_test[n, 0], rate_test[n, 1])\n",
    "    SE += (pred - rate_test[n, 2]) ** 2\n",
    "\n",
    "RMSE = np.sqrt(SE / n_tests)\n",
    "print(f\"Item - Item CF RMSE: {RMSE}\")"
   ]
  },
  {
   "cell_type": "markdown",
   "metadata": {},
   "source": [
    "# Kết luận\n",
    "Lọc cộng tác sản phẩm cho kết quả chính xác hơn lọc cộng tác người dùng"
   ]
  }
 ],
 "metadata": {
  "kernelspec": {
   "display_name": "VENV",
   "language": "python",
   "name": "python3"
  },
  "language_info": {
   "codemirror_mode": {
    "name": "ipython",
    "version": 3
   },
   "file_extension": ".py",
   "mimetype": "text/x-python",
   "name": "python",
   "nbconvert_exporter": "python",
   "pygments_lexer": "ipython3",
   "version": "3.11.0"
  }
 },
 "nbformat": 4,
 "nbformat_minor": 2
}
