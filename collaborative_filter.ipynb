{
 "cells": [
  {
   "cell_type": "markdown",
   "metadata": {},
   "source": [
    "# Lý thuyết\n",
    "**Lọc cộng tác lân cận** là phương pháp để hoàn thiện ma trận tiện ích, dự đoán đánh giá của người dùng lên sản phẩm, được chia làm 2 loại:\n",
    "* **Lọc cộng tác lân cận dựa trên người dùng**: Đánh giá sự tương đồng của mỗi người dùng với nhau, nếu hai người dùng là tương đồng thì sản phẩm người dùng này yêu thích sẽ được gợi ý cho người dùng kia\n",
    "* **Lọc cộng tác lân cận dựa trên sản phẩm**: Đánh giá sự tương đồng của mỗi sản phẩm với nhau, nếu hai sản phẩm là tương đồng và người dùng yêu thích một trong hai sản phẩm, hệ thống sẽ gợi tý sản phẩm còn lại cho người dùng đó"
   ]
  },
  {
   "cell_type": "markdown",
   "metadata": {},
   "source": [
    "## Lọc cộng tác lân cận dựa trên người dùng:\n",
    "* Chuẩn hóa ma trận tiện ích:\n",
    "    * Đối với mỗi người dùng:\n",
    "        * Tính trung bình đánh giá của người dùng theo mọi sản phẩm\n",
    "        * Cập nhật đánh giá mỗi sản phẩm = đánh giá cũ - trung bình\n",
    "    * Tính ma trận tương tự trong đó phần tử ở hàng i cột j là độ tương đồng của người dùng i với người dùng j\n",
    "        * Độ tương đồng cosine:\n",
    "        $$sim(u_1, u_2) = cosine\\_similarity(u_1, u_2) = \\cos(u_1, u_2) = \\frac{\\displaystyle \\textbf{u}_1^{T}\\textbf{u}_2}{\\left\\|\\textbf{u}_1\\right\\|_2^2 \\left\\|\\textbf{u}_2\\right\\|_2^2}$$\n",
    "    * Dự đoán độ quan tâm của người dùng u tới sản phẩm i:$$\\hat{y}_{i,u} = \\frac{\\sum_{u_j\\in N(u,i)}^{}\\bar{y}_{i,u_j}sim(u,u_j)}{\\sum_{u_j \\in N(u,i)}^{}\\left| sim(u,u_j) \\right|}$$\n",
    "      * Trong đó:\n",
    "        * $ N(u,i) $ là tập hợp k người dùng tương tự với $u$ nhất mà đã đánh giá sản phẩm $i$\n",
    "        * $\\bar{y}_{i,u_j}$ là đánh giá đã được chuẩn hóa của người dùng $u_j$ đến sản phẩm $i$\n"
   ]
  },
  {
   "cell_type": "code",
   "execution_count": null,
   "metadata": {},
   "outputs": [],
   "source": []
  }
 ],
 "metadata": {
  "kernelspec": {
   "display_name": "venv",
   "language": "python",
   "name": "python3"
  },
  "language_info": {
   "name": "python",
   "version": "3.11.0"
  }
 },
 "nbformat": 4,
 "nbformat_minor": 2
}
